{
 "cells": [
  {
   "cell_type": "code",
   "execution_count": null,
   "id": "b3c02223-51df-496b-8f9f-cfc838092055",
   "metadata": {},
   "outputs": [],
   "source": [
    "import pandas as pd\n",
    "import os\n",
    "import glob\n",
    "import numpy as np"
   ]
  },
  {
   "cell_type": "markdown",
   "id": "dc4965dc-a173-46e2-884d-f1f9607627f6",
   "metadata": {},
   "source": [
    "# Support Function"
   ]
  },
  {
   "cell_type": "code",
   "execution_count": null,
   "id": "ad8c4f4b-7150-446c-86fe-f2bbf20a597f",
   "metadata": {},
   "outputs": [],
   "source": [
    "def read_all_csv_in_directory(directory, recursive=False):\n",
    "    \"\"\"\n",
    "    Reads all CSV files in a specified directory and combines them into a single DataFrame.\n",
    "\n",
    "    Parameters:\n",
    "    -----------\n",
    "    directory : str\n",
    "        Path to the directory containing the CSV files.\n",
    "    recursive : bool, optional (default=False)\n",
    "        If True, the function will search for CSV files recursively in subdirectories.\n",
    "\n",
    "    Returns:\n",
    "    --------\n",
    "    pd.DataFrame\n",
    "        A DataFrame containing the combined data from all CSV files.\n",
    "    \"\"\"\n",
    "    all_files = []\n",
    "    \n",
    "    # Traverse the directory\n",
    "    if recursive:\n",
    "        # Use os.walk for recursive directory traversal\n",
    "        for root, dirs, files in os.walk(directory):\n",
    "            for file in files:\n",
    "                if file.endswith('.csv'):\n",
    "                    file_path = os.path.join(root, file)\n",
    "                    print(f\"Reading file: {file_path}\")\n",
    "                    df = pd.read_csv(file_path)\n",
    "                    all_files.append(df)\n",
    "    else:\n",
    "        # List all files in the main directory\n",
    "        for file in os.listdir(directory):\n",
    "            if file.endswith('.csv'):\n",
    "                file_path = os.path.join(directory, file)\n",
    "                print(f\"Reading file: {file_path}\")\n",
    "                df = pd.read_csv(file_path)\n",
    "                all_files.append(df)\n",
    "    \n",
    "    # Concatenate all DataFrames\n",
    "    if all_files:\n",
    "        combined_df = pd.concat(all_files, ignore_index=True)\n",
    "        return combined_df\n",
    "    else:\n",
    "        raise FileNotFoundError(f\"No CSV files found in directory {directory}\")\n",
    "    "
   ]
  },
  {
   "cell_type": "code",
   "execution_count": null,
   "id": "76d904eb-f36f-454b-aadf-39ba68ab9635",
   "metadata": {},
   "outputs": [],
   "source": [
    "def get_title(formatted_name, product_name):\n",
    "    if ((formatted_name == 0) | (formatted_name == '') | (pd.isna(formatted_name))):\n",
    "        result = product_name\n",
    "    else:\n",
    "        result = formatted_name\n",
    "    return result"
   ]
  },
  {
   "cell_type": "code",
   "execution_count": null,
   "id": "8ce69122-80e2-41b9-b461-2da8ae2a32ee",
   "metadata": {},
   "outputs": [],
   "source": [
    "def get_filter(title_x, title_y):\n",
    "    if title_x == title_y:\n",
    "        result = False\n",
    "    else:\n",
    "        result = True\n",
    "    return result"
   ]
  },
  {
   "cell_type": "markdown",
   "id": "3c755a33-fb86-467d-aa83-8228b0f08cde",
   "metadata": {},
   "source": [
    "# Read Morris data"
   ]
  },
  {
   "cell_type": "code",
   "execution_count": null,
   "id": "6958295c-2626-4c3a-ac29-d98151248299",
   "metadata": {},
   "outputs": [],
   "source": [
    "df_morris = pd.read_excel('data/All_Products_PWHSL.xlsx')"
   ]
  },
  {
   "cell_type": "code",
   "execution_count": null,
   "id": "c5c323c4-cf5d-4b28-bdc5-db39345e28af",
   "metadata": {},
   "outputs": [],
   "source": [
    "df_morris.head()"
   ]
  },
  {
   "cell_type": "code",
   "execution_count": null,
   "id": "7c9150b4-bf13-44e5-8921-9c568ba913e0",
   "metadata": {},
   "outputs": [],
   "source": [
    "df_morris.shape"
   ]
  },
  {
   "cell_type": "code",
   "execution_count": null,
   "id": "673a01ed-0414-4f05-ae5b-cdd29498c299",
   "metadata": {},
   "outputs": [],
   "source": [
    "df_morris['Flag'] = True"
   ]
  },
  {
   "cell_type": "code",
   "execution_count": null,
   "id": "0c5368f8-252b-4ed0-92f6-9cd6cafe0481",
   "metadata": {},
   "outputs": [],
   "source": [
    "df_morris['Title'] = df_morris.apply(lambda x: get_title(x['FormattedName'], x['ProductName']), axis=1)"
   ]
  },
  {
   "cell_type": "code",
   "execution_count": null,
   "id": "2ca1df4d-417a-459a-b8d5-43bdcc72ba76",
   "metadata": {},
   "outputs": [],
   "source": [
    "df_morris[df_morris.duplicated(subset='Title')][['Title', 'Flag']]"
   ]
  },
  {
   "cell_type": "code",
   "execution_count": null,
   "id": "b449a818-f36a-4d2d-9c7c-e3d311a791e4",
   "metadata": {},
   "outputs": [],
   "source": [
    "df_morris.drop_duplicates(subset='Title', inplace=True)"
   ]
  },
  {
   "cell_type": "code",
   "execution_count": null,
   "id": "96e6ba9c-a4e9-4071-80d1-92a999e13685",
   "metadata": {},
   "outputs": [],
   "source": [
    "df_morris.shape"
   ]
  },
  {
   "cell_type": "code",
   "execution_count": null,
   "id": "e36cd901-75f4-4a57-b08f-a1a44c587123",
   "metadata": {},
   "outputs": [],
   "source": [
    "df_morris[df_morris.duplicated('Sku')]"
   ]
  },
  {
   "cell_type": "markdown",
   "id": "c7a435fc-1c77-4ad5-b032-3549b3c0b0d6",
   "metadata": {},
   "source": [
    "# Read Shopify data"
   ]
  },
  {
   "cell_type": "code",
   "execution_count": null,
   "id": "767cbe30-db47-4511-8f0e-3661352a1135",
   "metadata": {},
   "outputs": [],
   "source": [
    "shopify_df = read_all_csv_in_directory('data/shopify')"
   ]
  },
  {
   "cell_type": "code",
   "execution_count": null,
   "id": "e25f7243-6cd7-44a1-92c7-5c4fb588fcd2",
   "metadata": {},
   "outputs": [],
   "source": [
    "shopify_df.head()"
   ]
  },
  {
   "cell_type": "code",
   "execution_count": null,
   "id": "00b8b33a-2834-46a5-9edf-c46f2f69fcce",
   "metadata": {},
   "outputs": [],
   "source": [
    "shopify_df.shape"
   ]
  },
  {
   "cell_type": "code",
   "execution_count": null,
   "id": "c4768e20-82b8-4ac5-b34c-b973232d966d",
   "metadata": {},
   "outputs": [],
   "source": [
    "shopify_df['Variant Barcode'] = shopify_df['Variant Barcode'].str.replace(\"'\", \"\")\n",
    "shopify_df['Variant Barcode'] = shopify_df['Variant Barcode'].str.replace(' ', '')"
   ]
  },
  {
   "cell_type": "code",
   "execution_count": null,
   "id": "53be87df-4f49-41b4-9e76-95f88553b753",
   "metadata": {},
   "outputs": [],
   "source": [
    "shopify_df['Variant Barcode'] = pd.to_numeric(shopify_df['Variant Barcode'], downcast='integer', errors='ignore')"
   ]
  },
  {
   "cell_type": "code",
   "execution_count": null,
   "id": "d6334ad3-5a94-481a-8ab9-9dbcbc1d8aa9",
   "metadata": {},
   "outputs": [],
   "source": [
    "shopify_df['Variant Barcode'].fillna(0, inplace=True)"
   ]
  },
  {
   "cell_type": "code",
   "execution_count": null,
   "id": "676cf31d-3d14-4013-a336-f81fc3da16cd",
   "metadata": {},
   "outputs": [],
   "source": [
    "shopify_df[shopify_df['Variant Barcode'] == 0].head()"
   ]
  },
  {
   "cell_type": "code",
   "execution_count": null,
   "id": "8f3d5ec8-b477-42a0-8ce6-cabbe8a28f6c",
   "metadata": {},
   "outputs": [],
   "source": [
    "shopify_df[shopify_df['Variant Barcode'] == 0].shape"
   ]
  },
  {
   "cell_type": "markdown",
   "id": "87d7608a-73fb-4381-8cdd-97c8cd83b096",
   "metadata": {},
   "source": [
    "# Filter Morris product from shopify data"
   ]
  },
  {
   "cell_type": "code",
   "execution_count": null,
   "id": "fdcd8082-50d1-4f37-a0a6-952de922fc2a",
   "metadata": {},
   "outputs": [],
   "source": [
    "shopify_morris_df = pd.merge(shopify_df, df_morris[['Title', 'Sku', 'Flag']], how='inner', left_on='Variant SKU', right_on='Sku')"
   ]
  },
  {
   "cell_type": "code",
   "execution_count": null,
   "id": "e73a89b7-a2a4-4d7d-ac54-6aae1ba0d7c7",
   "metadata": {},
   "outputs": [],
   "source": [
    "shopify_morris_df.head()"
   ]
  },
  {
   "cell_type": "code",
   "execution_count": null,
   "id": "04f56b49-9c9b-478f-b3ac-d6092659d142",
   "metadata": {},
   "outputs": [],
   "source": [
    "shopify_morris_df.shape"
   ]
  },
  {
   "cell_type": "markdown",
   "id": "1dd86920-21a1-43e6-b7b0-23bc2008f5c3",
   "metadata": {},
   "source": [
    "# Duplicate data"
   ]
  },
  {
   "cell_type": "code",
   "execution_count": null,
   "id": "e2bf7972-7e82-4256-a863-a588f3aedb39",
   "metadata": {},
   "outputs": [],
   "source": [
    "cleaned_df = shopify_morris_df[~pd.isna(shopify_morris_df['Variant SKU'])]"
   ]
  },
  {
   "cell_type": "code",
   "execution_count": null,
   "id": "cbdf24e0-7255-407e-a18b-d0ed29da39cb",
   "metadata": {},
   "outputs": [],
   "source": [
    "cleaned_df.head()"
   ]
  },
  {
   "cell_type": "code",
   "execution_count": null,
   "id": "7c98ffbb-8dc4-4775-9333-90c7fe9bbdb8",
   "metadata": {},
   "outputs": [],
   "source": [
    "cleaned_df.shape"
   ]
  },
  {
   "cell_type": "code",
   "execution_count": null,
   "id": "d37cd191-6c79-46a4-afb6-8ab6a82640e2",
   "metadata": {},
   "outputs": [],
   "source": [
    "cleaned_df[cleaned_df['Variant SKU'] == 'GC3582710']"
   ]
  },
  {
   "cell_type": "code",
   "execution_count": null,
   "id": "8023c848-9040-4d77-82a9-2336b4abc371",
   "metadata": {},
   "outputs": [],
   "source": [
    "duplicated_df = cleaned_df[cleaned_df.duplicated(subset='Variant SKU', keep=False)].sort_values(by='Variant SKU')"
   ]
  },
  {
   "cell_type": "code",
   "execution_count": null,
   "id": "43486b5b-5df0-4453-89d3-47205752b834",
   "metadata": {},
   "outputs": [],
   "source": [
    "duplicated_df.shape"
   ]
  },
  {
   "cell_type": "code",
   "execution_count": null,
   "id": "f17bf049-8b65-4b63-b42d-6b33e1e21a5e",
   "metadata": {},
   "outputs": [],
   "source": [
    "duplicated_df.head()"
   ]
  },
  {
   "cell_type": "code",
   "execution_count": null,
   "id": "ae847d49-e31f-4ed7-adae-8ae6367c2826",
   "metadata": {},
   "outputs": [],
   "source": [
    "duplicated_df[duplicated_df['Variant SKU'] == 'GC3582710']"
   ]
  },
  {
   "cell_type": "markdown",
   "id": "e1303f2c-3d18-4222-be3d-d49c40af307d",
   "metadata": {},
   "source": [
    "## Handle data with duplicated sku same product"
   ]
  },
  {
   "cell_type": "code",
   "execution_count": null,
   "id": "0b00e358-3c45-4d70-8ef6-1961455876c4",
   "metadata": {},
   "outputs": [],
   "source": [
    "need_to_drop_df = duplicated_df[duplicated_df.duplicated(subset=['Variant SKU', 'Variant Barcode'], keep=False)].sort_values(by='Variant SKU')"
   ]
  },
  {
   "cell_type": "code",
   "execution_count": null,
   "id": "fdfaa6ee-9333-42b9-85b9-59340b9df60f",
   "metadata": {},
   "outputs": [],
   "source": [
    "need_to_drop_df.head()"
   ]
  },
  {
   "cell_type": "code",
   "execution_count": null,
   "id": "2a4884f3-2515-4d6a-9c90-c2485d3f581a",
   "metadata": {},
   "outputs": [],
   "source": [
    "need_to_drop_df.shape"
   ]
  },
  {
   "cell_type": "code",
   "execution_count": null,
   "id": "6661ccac-caac-4a21-b798-4b91bc8850d8",
   "metadata": {},
   "outputs": [],
   "source": [
    "need_to_drop_df[need_to_drop_df['Variant SKU'] == 'GC3582710']"
   ]
  },
  {
   "cell_type": "code",
   "execution_count": null,
   "id": "79f125ed-8367-4f4c-a5de-257041e542d4",
   "metadata": {},
   "outputs": [],
   "source": [
    "need_to_drop_df['Filter'] = need_to_drop_df.apply(lambda x: get_filter(x['Title_x'], x['Title_y']), axis=1)"
   ]
  },
  {
   "cell_type": "code",
   "execution_count": null,
   "id": "91fd97f5-21e4-403a-9a37-0bb38b74c5a8",
   "metadata": {},
   "outputs": [],
   "source": [
    "filtered_need_to_drop = need_to_drop_df[need_to_drop_df['Filter']]"
   ]
  },
  {
   "cell_type": "code",
   "execution_count": null,
   "id": "137a7406-6e37-497f-86f4-967b547fe41e",
   "metadata": {},
   "outputs": [],
   "source": [
    "filtered_need_to_drop[['Handle','Title_x', 'Variant SKU', 'Variant Barcode']]"
   ]
  },
  {
   "cell_type": "code",
   "execution_count": null,
   "id": "b04108c1-076b-40f3-a718-44198d548744",
   "metadata": {},
   "outputs": [],
   "source": [
    "filtered_need_to_drop[need_to_drop_df['Variant SKU'] == 'GC3582710']"
   ]
  },
  {
   "cell_type": "code",
   "execution_count": null,
   "id": "1b957ead-5e77-41b1-b647-9a0a3c5e175e",
   "metadata": {},
   "outputs": [],
   "source": [
    "filtered_need_to_drop.to_csv('data/need_to_drop.csv', index=False)"
   ]
  },
  {
   "cell_type": "markdown",
   "id": "48750f90-8617-4f3c-8ac2-fba253a7f588",
   "metadata": {},
   "source": [
    "## Handle data with duplicated sku different product"
   ]
  },
  {
   "cell_type": "code",
   "execution_count": null,
   "id": "40100a81-4fac-413c-a85d-763c0c365a25",
   "metadata": {},
   "outputs": [],
   "source": [
    "need_to_change_sku_df = duplicated_df.groupby('Variant SKU').filter(lambda x: x['Variant Barcode'].nunique() > 1)"
   ]
  },
  {
   "cell_type": "code",
   "execution_count": null,
   "id": "55f77d58-c819-4b64-8edb-2a7601547e61",
   "metadata": {},
   "outputs": [],
   "source": [
    "filtered_need_to_change_sku_df = need_to_change_sku_df.drop_duplicates(subset=['Variant SKU', 'Variant Barcode'])"
   ]
  },
  {
   "cell_type": "code",
   "execution_count": null,
   "id": "27ebf922-a4f9-405d-bca9-6bea27e571cf",
   "metadata": {},
   "outputs": [],
   "source": [
    "filtered_need_to_change_sku_df[['Handle', 'Title', 'Variant SKU', 'Variant Barcode']]"
   ]
  },
  {
   "cell_type": "code",
   "execution_count": null,
   "id": "638cda9d-e5e6-4232-841d-9c38a9b6bc8b",
   "metadata": {},
   "outputs": [],
   "source": [
    "merged_need_to_change_df = filtered_need_to_change_sku_df.merge(df_morris[['Title', 'Flag']], how='left', on='Title')"
   ]
  },
  {
   "cell_type": "code",
   "execution_count": null,
   "id": "e31c9417-878c-4b7c-841c-68a502b347c2",
   "metadata": {},
   "outputs": [],
   "source": [
    "merged_need_to_change_df"
   ]
  },
  {
   "cell_type": "code",
   "execution_count": null,
   "id": "8779b43e-43a2-45eb-830f-5c1a639f137d",
   "metadata": {},
   "outputs": [],
   "source": [
    "need_to_change_sku_df.to_csv('data/need_to_change_sku.csv', index=False)"
   ]
  },
  {
   "cell_type": "code",
   "execution_count": null,
   "id": "bd52d977-7411-4621-9510-95b807d5039a",
   "metadata": {},
   "outputs": [],
   "source": []
  }
 ],
 "metadata": {
  "kernelspec": {
   "display_name": "polars_env",
   "language": "python",
   "name": "venv"
  },
  "language_info": {
   "codemirror_mode": {
    "name": "ipython",
    "version": 3
   },
   "file_extension": ".py",
   "mimetype": "text/x-python",
   "name": "python",
   "nbconvert_exporter": "python",
   "pygments_lexer": "ipython3",
   "version": "3.11.2"
  }
 },
 "nbformat": 4,
 "nbformat_minor": 5
}
